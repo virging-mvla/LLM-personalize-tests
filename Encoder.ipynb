{
 "cells": [
  {
   "cell_type": "code",
   "execution_count": 1,
   "metadata": {},
   "outputs": [],
   "source": [
    "import pandas as pd\n"
   ]
  },
  {
   "cell_type": "code",
   "execution_count": 13,
   "metadata": {},
   "outputs": [
    {
     "name": "stdout",
     "output_type": "stream",
     "text": [
      "Initial user_data shape: (2232748, 5)\n",
      "Initial article_data shape: (101527, 8)\n",
      "0    [N94157, N78699, N71090, N31174]\n",
      "1                    [N25587, N36266]\n",
      "2                            [N47925]\n",
      "3                           [N114935]\n",
      "4                            [N86258]\n",
      "5                            [N98178]\n",
      "6                            [N94572]\n",
      "7                            [N98178]\n",
      "8                           [N123077]\n",
      "9                            [N28902]\n",
      "Name: 4, dtype: object\n",
      "Number of users with at least one article with -1 suffix: 2232748\n",
      "User data after processing columns shape: (2232748, 3)\n",
      "User data after filtering shape: (618930, 3)\n",
      "Merged data shape: (1769838, 5)\n",
      "Grouped data shape: (512971, 3)\n"
     ]
    }
   ],
   "source": [
    "def preprocess_data(user_tsv_path, article_tsv_path):\n",
    "    # Read the TSVs\n",
    "    user_data = pd.read_csv(user_tsv_path, sep='\\t', header=None)\n",
    "    article_data = pd.read_csv(article_tsv_path, sep='\\t', header=None)\n",
    "    \n",
    "    print(\"Initial user_data shape:\", user_data.shape)\n",
    "    print(\"Initial article_data shape:\", article_data.shape)\n",
    "    \n",
    "    user_ids_col = user_data[1]\n",
    "    consumption_times_col = user_data[2].apply(lambda x: int(x.split(' ')[0].split('/')[1]))  # Extract day of the month\n",
    "    article_ids_col = user_data[4]\n",
    "    \n",
    "    article_id_col = article_data[0]\n",
    "    headlines_col = article_data[3]\n",
    "    \n",
    "    article_ids_col = article_ids_col.apply(lambda x: [i[:-2] for i in str(x).split(' ') if i.endswith('-1')])\n",
    "        \n",
    "    users_with_minus_one = article_ids_col[article_ids_col.apply(len) > 0]\n",
    "    print(\"Number of users with at least one article with -1 suffix:\", len(users_with_minus_one))\n",
    "    \n",
    "    user_data_processed = pd.DataFrame({\n",
    "        'User_ID': user_ids_col,\n",
    "        'Date_of_Consumption': consumption_times_col,\n",
    "        'Article_IDs': article_ids_col\n",
    "    })\n",
    "    \n",
    "    print(\"User data after processing columns shape:\", user_data_processed.shape)\n",
    "    \n",
    "    # Filter out users with less than two articles\n",
    "    user_data_processed = user_data_processed[user_data_processed['Article_IDs'].apply(len) >= 2]\n",
    "    \n",
    "    print(\"User data after filtering shape:\", user_data_processed.shape)\n",
    "    \n",
    "    # Create a dataframe for articles\n",
    "    article_data_processed = pd.DataFrame({\n",
    "        'Article_ID': article_id_col,\n",
    "        'Headline': headlines_col\n",
    "    })\n",
    "    \n",
    "    merged_data = user_data_processed.explode('Article_IDs').merge(article_data_processed, left_on='Article_IDs', right_on='Article_ID')\n",
    "    \n",
    "    print(\"Merged data shape:\", merged_data.shape)\n",
    "    \n",
    "    grouped_data = merged_data.groupby(['User_ID', 'Date_of_Consumption'])['Headline'].apply(list).reset_index()\n",
    "    \n",
    "    print(\"Grouped data shape:\", grouped_data.shape)\n",
    "    \n",
    "    user_ids = grouped_data['User_ID'].tolist()\n",
    "    consumption_days = grouped_data['Date_of_Consumption'].tolist()\n",
    "    article_headlines = grouped_data['Headline'].tolist()\n",
    "    \n",
    "    return user_ids, consumption_days, article_headlines\n",
    "\n",
    "\n",
    "user_tsv_path = 'originalData/behaviors.tsv'\n",
    "article_tsv_path = 'originalData/news.tsv'\n",
    "user_ids, consumption_times, article_headlines = preprocess_data(user_tsv_path, article_tsv_path)"
   ]
  },
  {
   "cell_type": "code",
   "execution_count": 30,
   "metadata": {},
   "outputs": [
    {
     "name": "stdout",
     "output_type": "stream",
     "text": [
      "U100003\n"
     ]
    }
   ],
   "source": [
    "print (user_ids[9])"
   ]
  },
  {
   "cell_type": "code",
   "execution_count": 27,
   "metadata": {},
   "outputs": [
    {
     "name": "stdout",
     "output_type": "stream",
     "text": [
      "[\"Stephen Curry calls out Michael Jordan for being a 'hater'\", 'U.S. Drones Appear to Show Turkish- Backed Forces Targeting Civilians']\n"
     ]
    }
   ],
   "source": [
    "print(article_headlines[10])"
   ]
  },
  {
   "cell_type": "code",
   "execution_count": 28,
   "metadata": {},
   "outputs": [
    {
     "name": "stdout",
     "output_type": "stream",
     "text": [
      "12\n"
     ]
    }
   ],
   "source": [
    "print(consumption_times[10])"
   ]
  },
  {
   "cell_type": "code",
   "execution_count": 31,
   "metadata": {},
   "outputs": [
    {
     "name": "stderr",
     "output_type": "stream",
     "text": [
      "/home/gvirgink/anaconda3/envs/whisperenv/lib/python3.9/site-packages/tqdm/auto.py:21: TqdmWarning: IProgress not found. Please update jupyter and ipywidgets. See https://ipywidgets.readthedocs.io/en/stable/user_install.html\n",
      "  from .autonotebook import tqdm as notebook_tqdm\n"
     ]
    }
   ],
   "source": [
    "import torch\n",
    "import torch.nn as nn\n",
    "import torch.nn.functional as F\n",
    "from sentence_transformers import SentenceTransformer"
   ]
  },
  {
   "cell_type": "code",
   "execution_count": 34,
   "metadata": {},
   "outputs": [],
   "source": [
    "class UserEncoder(nn.Module):\n",
    "    def __init__(self, embedding_dim, lstm_hidden_dim, mlp_hidden_dim, lambda_val, alpha, beta):\n",
    "        super(UserEncoder, self).__init__()\n",
    "        \n",
    "        self.sentence_model = SentenceTransformer('sentence-transformers/all-mpnet-base-v2')\n",
    "        \n",
    "        self.lstm = nn.LSTM(embedding_dim, lstm_hidden_dim, batch_first=True)\n",
    "        \n",
    "        self.mlp = nn.Sequential(\n",
    "            nn.Linear(embedding_dim, mlp_hidden_dim),\n",
    "            nn.ReLU(),\n",
    "            nn.Linear(mlp_hidden_dim, 2*embedding_dim)\n",
    "        )\n",
    "        \n",
    "        self.lambda_val = lambda_val\n",
    "        self.alpha = alpha\n",
    "        self.beta = beta\n",
    "\n",
    "    def forward(self, user_ids, article_headlines, consumption_times):\n",
    "        article_embeddings = self.sentence_model.encode(article_headlines)\n",
    "        article_embeddings = torch.tensor(article_embeddings)\n",
    "        \n",
    "        current_time = torch.tensor(15) # day after entries end \n",
    "        consumption_days_tensor = torch.tensor(consumption_days, dtype=torch.float32)  \n",
    "        day_diff = current_day - consumption_days_tensor\n",
    "        weights = torch.exp(-self.lambda_val * day_diff)\n",
    "        \n",
    "        weighted_sum = torch.sum(weights.unsqueeze(-1) * article_embeddings, dim=1)\n",
    "        \n",
    "        mlp_output = self.mlp(weighted_sum)\n",
    "        \n",
    "        # Split into consistent and transient user interests\n",
    "        p_consistent = mlp_output[:, :mlp_output.shape[1]//2]\n",
    "        p_transient = mlp_output[:, mlp_output.shape[1]//2:]\n",
    "        \n",
    "        #Okay so one thing that confuses me here is what the point of the LSTM is if you only have one time entry \n",
    "        #One idea was to filter out entries that only appear multiple times (there are a few users who appear multiple times)\n",
    "        #Not sure if this would provide enough training data and would also require pretty big modifications to the code. \n",
    "        \n",
    "        lstm_out, _ = self.lstm(p_consistent.unsqueeze(1))\n",
    "        updated_p_consistent = lstm_out.squeeze(1)\n",
    "        \n",
    "        subsampled_headlines = [random.sample(headlines, len(headlines) // 2) for headlines in article_headlines]\n",
    "        subsampled_embeddings = self.sentence_model.encode(subsampled_headlines)\n",
    "        subsampled_embeddings = torch.tensor(subsampled_embeddings)\n",
    "        \n",
    "        positive_weighted_sum = torch.sum(weights.unsqueeze(-1) * subsampled_embeddings, dim=1)\n",
    "        positive_mlp_output = self.mlp(positive_weighted_sum)\n",
    "        p_positive_consistent = positive_mlp_output[:, :positive_mlp_output.shape[1]//2]\n",
    "        \n",
    "        return updated_p_consistent, p_transient\n",
    "    # ngl needed chatGPT/stack overflow to explain a lot of the loss function \n",
    "    def compute_loss(self, p, p_positive, p_negative):\n",
    "        contrastive_loss = torch.sum(F.relu(torch.norm(p - p_positive, dim=1)**2 - torch.norm(p - p_negative, dim=1)**2 + self.alpha))\n",
    "        consistency_reg = self.beta * torch.norm(p[:, :p.shape[1]//2] - p_positive[:, :p_positive.shape[1]//2], dim=1)**2\n",
    "        total_loss = contrastive_loss + consistency_reg\n",
    "        return total_loss"
   ]
  },
  {
   "cell_type": "code",
   "execution_count": 35,
   "metadata": {},
   "outputs": [],
   "source": [
    "model = UserEncoder(embedding_dim=768, lstm_hidden_dim=256, mlp_hidden_dim=512, lambda_val=0.5, alpha=0.5, beta=0.1)\n"
   ]
  },
  {
   "cell_type": "code",
   "execution_count": 36,
   "metadata": {},
   "outputs": [
    {
     "ename": "TypeError",
     "evalue": "unsupported operand type(s) for -: 'Tensor' and 'list'",
     "output_type": "error",
     "traceback": [
      "\u001b[0;31m---------------------------------------------------------------------------\u001b[0m",
      "\u001b[0;31mTypeError\u001b[0m                                 Traceback (most recent call last)",
      "Cell \u001b[0;32mIn[36], line 1\u001b[0m\n\u001b[0;32m----> 1\u001b[0m p_consistent, p_transient \u001b[38;5;241m=\u001b[39m \u001b[43mmodel\u001b[49m\u001b[43m(\u001b[49m\u001b[43muser_ids\u001b[49m\u001b[43m,\u001b[49m\u001b[43m \u001b[49m\u001b[43marticle_headlines\u001b[49m\u001b[43m,\u001b[49m\u001b[43m \u001b[49m\u001b[43mconsumption_times\u001b[49m\u001b[43m)\u001b[49m\n",
      "File \u001b[0;32m~/anaconda3/envs/whisperenv/lib/python3.9/site-packages/torch/nn/modules/module.py:1501\u001b[0m, in \u001b[0;36mModule._call_impl\u001b[0;34m(self, *args, **kwargs)\u001b[0m\n\u001b[1;32m   1496\u001b[0m \u001b[38;5;66;03m# If we don't have any hooks, we want to skip the rest of the logic in\u001b[39;00m\n\u001b[1;32m   1497\u001b[0m \u001b[38;5;66;03m# this function, and just call forward.\u001b[39;00m\n\u001b[1;32m   1498\u001b[0m \u001b[38;5;28;01mif\u001b[39;00m \u001b[38;5;129;01mnot\u001b[39;00m (\u001b[38;5;28mself\u001b[39m\u001b[38;5;241m.\u001b[39m_backward_hooks \u001b[38;5;129;01mor\u001b[39;00m \u001b[38;5;28mself\u001b[39m\u001b[38;5;241m.\u001b[39m_backward_pre_hooks \u001b[38;5;129;01mor\u001b[39;00m \u001b[38;5;28mself\u001b[39m\u001b[38;5;241m.\u001b[39m_forward_hooks \u001b[38;5;129;01mor\u001b[39;00m \u001b[38;5;28mself\u001b[39m\u001b[38;5;241m.\u001b[39m_forward_pre_hooks\n\u001b[1;32m   1499\u001b[0m         \u001b[38;5;129;01mor\u001b[39;00m _global_backward_pre_hooks \u001b[38;5;129;01mor\u001b[39;00m _global_backward_hooks\n\u001b[1;32m   1500\u001b[0m         \u001b[38;5;129;01mor\u001b[39;00m _global_forward_hooks \u001b[38;5;129;01mor\u001b[39;00m _global_forward_pre_hooks):\n\u001b[0;32m-> 1501\u001b[0m     \u001b[38;5;28;01mreturn\u001b[39;00m \u001b[43mforward_call\u001b[49m\u001b[43m(\u001b[49m\u001b[38;5;241;43m*\u001b[39;49m\u001b[43margs\u001b[49m\u001b[43m,\u001b[49m\u001b[43m \u001b[49m\u001b[38;5;241;43m*\u001b[39;49m\u001b[38;5;241;43m*\u001b[39;49m\u001b[43mkwargs\u001b[49m\u001b[43m)\u001b[49m\n\u001b[1;32m   1502\u001b[0m \u001b[38;5;66;03m# Do not call functions when jit is used\u001b[39;00m\n\u001b[1;32m   1503\u001b[0m full_backward_hooks, non_full_backward_hooks \u001b[38;5;241m=\u001b[39m [], []\n",
      "Cell \u001b[0;32mIn[34], line 29\u001b[0m, in \u001b[0;36mUserEncoder.forward\u001b[0;34m(self, user_ids, article_headlines, consumption_times)\u001b[0m\n\u001b[1;32m     27\u001b[0m \u001b[38;5;66;03m# Compute weights based on consumption times\u001b[39;00m\n\u001b[1;32m     28\u001b[0m current_time \u001b[38;5;241m=\u001b[39m torch\u001b[38;5;241m.\u001b[39mtensor(\u001b[38;5;241m15\u001b[39m)  \u001b[38;5;66;03m# Assuming the format is [year, month, day]\u001b[39;00m\n\u001b[0;32m---> 29\u001b[0m time_diff \u001b[38;5;241m=\u001b[39m \u001b[43mcurrent_time\u001b[49m\u001b[43m \u001b[49m\u001b[38;5;241;43m-\u001b[39;49m\u001b[43m \u001b[49m\u001b[43mconsumption_times\u001b[49m\n\u001b[1;32m     30\u001b[0m weights \u001b[38;5;241m=\u001b[39m torch\u001b[38;5;241m.\u001b[39mexp(\u001b[38;5;241m-\u001b[39m\u001b[38;5;28mself\u001b[39m\u001b[38;5;241m.\u001b[39mlambda_val \u001b[38;5;241m*\u001b[39m time_diff)\n\u001b[1;32m     32\u001b[0m \u001b[38;5;66;03m# Compute weighted sum of article encodings\u001b[39;00m\n",
      "\u001b[0;31mTypeError\u001b[0m: unsupported operand type(s) for -: 'Tensor' and 'list'"
     ]
    }
   ],
   "source": [
    "p_consistent, p_transient = model(user_ids, article_headlines, consumption_times)"
   ]
  },
  {
   "cell_type": "code",
   "execution_count": null,
   "metadata": {},
   "outputs": [],
   "source": []
  }
 ],
 "metadata": {
  "kernelspec": {
   "display_name": "whisperenv",
   "language": "python",
   "name": "whisperenv"
  },
  "language_info": {
   "codemirror_mode": {
    "name": "ipython",
    "version": 3
   },
   "file_extension": ".py",
   "mimetype": "text/x-python",
   "name": "python",
   "nbconvert_exporter": "python",
   "pygments_lexer": "ipython3",
   "version": "3.9.17"
  }
 },
 "nbformat": 4,
 "nbformat_minor": 2
}
